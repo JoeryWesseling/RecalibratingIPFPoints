{
 "cells": [
  {
   "cell_type": "code",
   "source": [
    "import pandas as pd\n",
    "import numpy as np\n",
    "import matplotlib\n",
    "import matplotlib.pyplot as plt\n",
    "from scipy.optimize import curve_fit\n"
   ],
   "metadata": {
    "collapsed": false,
    "ExecuteTime": {
     "end_time": "2025-01-09T16:34:33.181281Z",
     "start_time": "2025-01-09T16:34:20.928611Z"
    }
   },
   "outputs": [],
   "execution_count": 1
  },
  {
   "cell_type": "markdown",
   "source": [
    "## Importing the data from BIG CSV"
   ],
   "metadata": {
    "collapsed": false
   }
  },
  {
   "cell_type": "code",
   "source": [
    "data = pd.read_csv(\n",
    "    'Raw data/openipf-2024-12-28-acdecc3a.csv',\n",
    "    dtype={'BodyweightKg': 'float64', 'TotalKg': 'float64'},\n",
    "    low_memory=False\n",
    ")"
   ],
   "metadata": {
    "collapsed": false,
    "ExecuteTime": {
     "end_time": "2025-01-09T19:43:34.337041Z",
     "start_time": "2025-01-09T19:43:24.063427Z"
    }
   },
   "outputs": [],
   "execution_count": 48
  },
  {
   "cell_type": "code",
   "source": [
    "# Parse the 'Date' column to datetime format\n",
    "data['Date'] = pd.to_datetime(data['Date'], errors='coerce')\n"
   ],
   "metadata": {
    "collapsed": false,
    "ExecuteTime": {
     "end_time": "2025-01-09T19:43:34.493907Z",
     "start_time": "2025-01-09T19:43:34.345005Z"
    }
   },
   "outputs": [],
   "execution_count": 49
  },
  {
   "cell_type": "code",
   "source": [
    "# Filter for raw, full-power meets (SBD), males, and international meets from 2011 onwards\n",
    "filtered_data = data[\n",
    "    (data['Event'] == 'SBD') &              # Full power (SBD)\n",
    "    (data['Equipment'] == 'Raw') &         # Raw lifting\n",
    "    (data['Sex'] == 'M') &\n",
    "    (data['BodyweightKg'] >= 37.5)&\n",
    "    (data['Federation'].isin(['IPF', 'EPF'])) &  # International meets only\n",
    "    (data['Date'] >= '2011-01-01')\n",
    "    # (data['Date'] <= '2024-06-15')\n",
    "    # (data['Date'] <= '2020-04-30')\n",
    "]"
   ],
   "metadata": {
    "collapsed": false,
    "ExecuteTime": {
     "end_time": "2025-01-09T19:43:34.793342Z",
     "start_time": "2025-01-09T19:43:34.543202Z"
    }
   },
   "outputs": [],
   "execution_count": 50
  },
  {
   "cell_type": "code",
   "source": [
    "# Ensure necessary columns are present and drop missing values\n",
    "filtered_data = filtered_data[['Name', 'BodyweightKg', 'TotalKg', 'WeightClassKg', 'Federation', 'Date','MeetName']].dropna()\n",
    "\n",
    "filtered_data['MeetName'] = filtered_data['MeetName'].str.strip().str.lower()"
   ],
   "metadata": {
    "collapsed": false,
    "ExecuteTime": {
     "end_time": "2025-01-09T19:43:34.816590Z",
     "start_time": "2025-01-09T19:43:34.801290Z"
    }
   },
   "outputs": [],
   "execution_count": 51
  },
  {
   "cell_type": "code",
   "source": [
    "filtered_data.loc[:, 'Name'] = (\n",
    "    filtered_data['Name']\n",
    "    .str.strip()  # Remove leading/trailing spaces\n",
    "    .str.lower()  # Convert to lowercase for uniformity\n",
    ")"
   ],
   "metadata": {
    "collapsed": false,
    "ExecuteTime": {
     "end_time": "2025-01-09T19:43:34.854210Z",
     "start_time": "2025-01-09T19:43:34.844337Z"
    }
   },
   "outputs": [],
   "execution_count": 52
  },
  {
   "cell_type": "code",
   "source": [
    "\n",
    "# Retain the highest total per person per weight class\n",
    "filtered_data = filtered_data.loc[\n",
    "    filtered_data.groupby(['Name', 'WeightClassKg'])['TotalKg'].idxmax()\n",
    "].reset_index(drop=True)\n"
   ],
   "metadata": {
    "collapsed": false,
    "ExecuteTime": {
     "end_time": "2025-01-09T19:43:34.947270Z",
     "start_time": "2025-01-09T19:43:34.933137Z"
    }
   },
   "outputs": [],
   "execution_count": 53
  },
  {
   "metadata": {
    "ExecuteTime": {
     "end_time": "2025-01-09T16:41:02.040450Z",
     "start_time": "2025-01-09T16:41:02.033688Z"
    }
   },
   "cell_type": "code",
   "source": [
    "# Count the number of rows where WeightClassKg is '120+'\n",
    "count_120_plus = (filtered_data['WeightClassKg'] == '59').sum()\n",
    "\n",
    "# Display the result\n",
    "print(f\"Number of lifters in the 120+ weight class: {count_120_plus}\")\n"
   ],
   "outputs": [
    {
     "name": "stdout",
     "output_type": "stream",
     "text": [
      "Number of lifters in the 120+ weight class: 810\n"
     ]
    }
   ],
   "execution_count": 27
  },
  {
   "cell_type": "code",
   "source": [
    "# Save the filtered data to a CSV\n",
    "filtered_data.to_csv('filtered_data_equipped_man.csv', index=False)\n",
    "print(\"Filtered data saved as 'filtered_data_ipf_epf.csv'.\")\n"
   ],
   "metadata": {
    "collapsed": false,
    "ExecuteTime": {
     "end_time": "2025-01-09T19:43:38.088416Z",
     "start_time": "2025-01-09T19:43:38.038883Z"
    }
   },
   "outputs": [
    {
     "name": "stdout",
     "output_type": "stream",
     "text": [
      "Filtered data saved as 'filtered_data_ipf_epf.csv'.\n"
     ]
    }
   ],
   "execution_count": 54
  },
  {
   "cell_type": "code",
   "source": [
    "\n",
    "\n",
    "# World records male 2024\n",
    "world_records = {\n",
    "     '59': 669.5, '66': 710.5, '74': 836.0, '83': 861.0, '93': 901.0,\n",
    "    '105': 940.5, '120': 978.5, '120+': 1152.5\n",
    "}\n",
    "\n",
    "\n"
   ],
   "metadata": {
    "collapsed": false,
    "ExecuteTime": {
     "end_time": "2025-01-09T19:43:40.696724Z",
     "start_time": "2025-01-09T19:43:40.690820Z"
    }
   },
   "outputs": [],
   "execution_count": 55
  },
  {
   "metadata": {
    "ExecuteTime": {
     "end_time": "2025-01-07T15:49:27.451848Z",
     "start_time": "2025-01-07T15:49:27.446709Z"
    }
   },
   "cell_type": "code",
   "source": [
    "# World records male 2024 equipp\n",
    "world_records = {\n",
    "     '59': 765, '66': 820, '74': 908, '83': 945, '93': 1064,\n",
    "    '105': 1092.5, '120': 1132.5, '120+': 1275.5\n",
    "}"
   ],
   "outputs": [],
   "execution_count": 15
  },
  {
   "cell_type": "code",
   "source": [
    "# World records male 2020\n",
    "world_records = {\n",
    "    '59': 669.5, '66': 705.5, '74': 790.5, '83': 833, '93': 853.5,\n",
    "    '105': 895.5, '120': 978.5, '120+': 1105.5\n",
    "}"
   ],
   "metadata": {
    "collapsed": false,
    "ExecuteTime": {
     "end_time": "2025-01-07T15:49:27.474762Z",
     "start_time": "2025-01-07T15:49:27.470271Z"
    }
   },
   "outputs": [],
   "execution_count": 16
  },
  {
   "cell_type": "code",
   "source": [
    "\n",
    "# World records female 2020\n",
    "world_records = {'47': 407.5, '52': 432.5, '57': 473.5,\n",
    "                 '63': 543.5, '72': 543.5, '84': 613, '84+': 671.5\n",
    "}"
   ],
   "metadata": {
    "collapsed": false,
    "ExecuteTime": {
     "end_time": "2025-01-07T15:49:27.496355Z",
     "start_time": "2025-01-07T15:49:27.492698Z"
    }
   },
   "outputs": [],
   "execution_count": 17
  },
  {
   "cell_type": "code",
   "source": [
    "# world records female 2024\n",
    "world_records = {'47': 433.5, '52': 481, '57': 519.5,\n",
    "                 '63': 557.5, '69': 600, '76': 613, '84': 647, '84+': 731\n",
    "}"
   ],
   "metadata": {
    "collapsed": false,
    "ExecuteTime": {
     "end_time": "2025-01-07T15:49:27.518332Z",
     "start_time": "2025-01-07T15:49:27.513542Z"
    }
   },
   "outputs": [],
   "execution_count": 18
  },
  {
   "cell_type": "code",
   "source": [
    "# filtering for gold standard data\n",
    "filtered_data['WeightClassKg'] = filtered_data['WeightClassKg'].astype(str)\n",
    "gold_standard_data = filtered_data[\n",
    "    filtered_data.apply(\n",
    "        lambda row: row['TotalKg'] >= 0.84 * world_records.get(row['WeightClassKg'], np.inf), axis=1\n",
    "    )\n",
    "]"
   ],
   "metadata": {
    "collapsed": false,
    "ExecuteTime": {
     "end_time": "2025-01-09T19:43:43.772907Z",
     "start_time": "2025-01-09T19:43:43.713191Z"
    }
   },
   "outputs": [],
   "execution_count": 56
  },
  {
   "metadata": {
    "ExecuteTime": {
     "end_time": "2025-01-09T16:41:14.523601Z",
     "start_time": "2025-01-09T16:41:14.414756Z"
    }
   },
   "cell_type": "code",
   "source": [
    "import pandas as pd\n",
    "\n",
    "# Group by WeightClassKg and calculate the 90th percentile for TotalKg in each weight class\n",
    "percentile_90 = (\n",
    "    filtered_data.groupby('WeightClassKg')['TotalKg']\n",
    "    .quantile(0.9)\n",
    "    .to_dict()  # Convert to a dictionary for easy lookup\n",
    ")\n",
    "\n",
    "# Filter rows where TotalKg is in the top 10% of the weight class\n",
    "gold_standard_data = filtered_data[\n",
    "    filtered_data.apply(\n",
    "        lambda row: row['TotalKg'] >= percentile_90[row['WeightClassKg']], axis=1\n",
    "    )\n",
    "]\n"
   ],
   "outputs": [],
   "execution_count": 30
  },
  {
   "cell_type": "code",
   "source": [
    "# Standardize 'Name' column to ensure proper deduplication\n",
    "gold_standard_data.loc[:, 'Name'] = (\n",
    "    gold_standard_data['Name']\n",
    "    .str.strip()  # Remove leading/trailing spaces\n",
    "    .str.lower()  # Convert to lowercase for uniformity\n",
    ")"
   ],
   "metadata": {
    "collapsed": false,
    "ExecuteTime": {
     "end_time": "2025-01-09T19:43:47.552544Z",
     "start_time": "2025-01-09T19:43:47.545002Z"
    }
   },
   "outputs": [],
   "execution_count": 57
  },
  {
   "cell_type": "code",
   "source": [
    "# Deduplicate to retain only the top total for each lifter\n",
    "# Deduplicate to retain only the top total for each lifter per weight class\n",
    "gold_standard_data = gold_standard_data.loc[\n",
    "    gold_standard_data.groupby(['Name', 'WeightClassKg'])['TotalKg'].idxmax()\n",
    "].reset_index(drop=True)\n"
   ],
   "metadata": {
    "collapsed": false,
    "ExecuteTime": {
     "end_time": "2025-01-09T19:43:49.000666Z",
     "start_time": "2025-01-09T19:43:48.988553Z"
    }
   },
   "outputs": [],
   "execution_count": 58
  },
  {
   "metadata": {
    "ExecuteTime": {
     "end_time": "2025-01-09T20:21:14.663969Z",
     "start_time": "2025-01-09T20:21:14.518376Z"
    }
   },
   "cell_type": "code",
   "source": [
    "# Count the number of lifters per weight class\n",
    "weight_class_counts = gold_standard_data['WeightClassKg'].value_counts()\n",
    "\n",
    "# Convert to a DataFrame for better display\n",
    "weight_class_table = weight_class_counts.reset_index()\n",
    "weight_class_table.columns = ['WeightClassKg', 'GoldenSamplesCount']\n",
    "\n",
    "# Sort the table by GoldenSamplesCount in descending order\n",
    "weight_class_table = weight_class_table.sort_values(by='GoldenSamplesCount', ascending=False)\n",
    "\n",
    "# Display the sorted table\n",
    "import matplotlib.pyplot as plt\n",
    "\n",
    "# Plot the lifter count per weight class\n",
    "plt.figure(figsize=(8, 5))\n",
    "plt.bar(weight_class_table['WeightClassKg'], weight_class_table['GoldenSamplesCount'], color='#f7ce4d')\n",
    "plt.xlabel('Weight Class (kg)')\n",
    "plt.ylabel('Number of Lifters')\n",
    "plt.title('Number of Lifters per Weight Class')\n",
    "plt.show()\n",
    "print(weight_class_table)\n",
    "\n"
   ],
   "outputs": [
    {
     "data": {
      "text/plain": [
       "<Figure size 800x500 with 1 Axes>"
      ],
      "image/png": "[encoded data removed]"
     },
     "metadata": {},
     "output_type": "display_data"
    },
    {
     "name": "stdout",
     "output_type": "stream",
     "text": [
      "  WeightClassKg  GoldenSamplesCount\n",
      "0            93                 128\n",
      "1           105                 125\n",
      "2           120                 107\n",
      "3            83                  97\n",
      "4            66                  86\n",
      "5            74                  42\n",
      "6            59                  25\n",
      "7          120+                  10\n"
     ]
    }
   ],
   "execution_count": 65
  },
  {
   "cell_type": "code",
   "source": [
    "# Save the gold-standard data to a CSV\n",
    "gold_standard_data.to_csv('gold_standard_before_worlds_female_data_ipf_epf.csv', index=False)\n",
    "print(\"Gold standard data saved as 'gold_standard_data_ipf_epf.csv'.\")\n",
    "\n"
   ],
   "metadata": {
    "collapsed": false,
    "ExecuteTime": {
     "end_time": "2025-01-09T16:41:41.080922Z",
     "start_time": "2025-01-09T16:41:41.063773Z"
    }
   },
   "outputs": [
    {
     "name": "stdout",
     "output_type": "stream",
     "text": [
      "Gold standard data saved as 'gold_standard_data_ipf_epf.csv'.\n"
     ]
    }
   ],
   "execution_count": 34
  },
  {
   "metadata": {},
   "cell_type": "markdown",
   "source": "#### Data augmentation for the 120+"
  },
  {
   "metadata": {
    "ExecuteTime": {
     "end_time": "2025-01-07T15:49:28.036547Z",
     "start_time": "2025-01-07T15:49:28.029505Z"
    }
   },
   "cell_type": "code",
   "source": [
    "# Exclude the 120+ weight class from the data\n",
    "filtered_weight_class_table = weight_class_table[weight_class_table['WeightClassKg'] != '120+']\n",
    "\n",
    "# Calculate the average number of lifters for the remaining weight classes\n",
    "average_lifters_per_weight_class = filtered_weight_class_table['GoldenSamplesCount'].mean()\n",
    "\n",
    "# Display the average\n",
    "print(f'Average number of lifters per weight class (excluding 120+): {average_lifters_per_weight_class:.2f}')\n"
   ],
   "outputs": [
    {
     "name": "stdout",
     "output_type": "stream",
     "text": [
      "Average number of lifters per weight class (excluding 120+): nan\n"
     ]
    }
   ],
   "execution_count": 24
  },
  {
   "metadata": {
    "ExecuteTime": {
     "end_time": "2025-01-07T15:49:28.149314Z",
     "start_time": "2025-01-07T15:49:28.145002Z"
    }
   },
   "cell_type": "code",
   "source": "",
   "outputs": [],
   "execution_count": null
  },
  {
   "metadata": {
    "ExecuteTime": {
     "end_time": "2025-01-09T19:45:27.286361Z",
     "start_time": "2025-01-09T19:45:27.276103Z"
    }
   },
   "cell_type": "code",
   "source": [
    "# Filter for the 120+ weight class\n",
    "lifters = gold_standard_data[gold_standard_data['WeightClassKg'] == '120+']\n",
    "\n",
    "# Average the TotalKg and BodyweightKg for the 120+ kg class\n",
    "average_total = lifters['TotalKg'].mean()\n",
    "average_bodyweight = lifters['BodyweightKg'].mean()\n",
    "\n",
    "# Print the total weight and the filtered DataFrame\n",
    "print(f'Total weight of lifters in the 120+ weight class: {average_total} kg')\n",
    "print(f'average bodyweight of lifters in the 120+ weight class: {average_bodyweight} kg')\n"
   ],
   "outputs": [
    {
     "name": "stdout",
     "output_type": "stream",
     "text": [
      "Total weight of lifters in the 120+ weight class: 1036.15 kg\n",
      "average bodyweight of lifters in the 120+ weight class: 166.22899999999998 kg\n"
     ]
    }
   ],
   "execution_count": 64
  },
  {
   "cell_type": "code",
   "source": [
    "# Average number of lifters per weight class (excluding 120+): 87.14\n",
    "# Total weight of lifters in the 120+ weight class: 1036.15 kg\n",
    "# average bodyweight of lifters in the 120+ weight class: 166.22899999999998 kg\n",
    "#\n",
    "# To augment the data lets add 77 lifters with a total of 1036.15kg and a bodyweight off 166.23 to the data sample used\n",
    "import pandas as pd\n",
    "# Set the Bodyweight to 166.23 for each lifter\n",
    "bodyweight_per_lifter = 166.23;\n",
    "num_lifters = 41\n",
    "\n",
    "# Create the bodyweight list for each lifter\n",
    "weights = [bodyweight_per_lifter] * num_lifters\n",
    "\n",
    "# The TotalKg should be a fixed value (total lifted weight in the competition)\n",
    "total_kg = [1036.15] * num_lifters  # All lifters have the same total lifted weight\n",
    "\n",
    "# Create the DataFrame with the necessary columns\n",
    "names = [f'Lifter120+{i+1}' for i in range(num_lifters)]  # Generating names as Lifter1, Lifter2, ..., Lifter77\n",
    "weight_classes = ['120+'] * num_lifters  # All lifters are in the 120+ weight class\n",
    "federations = ['IPF'] * num_lifters  # All lifters are in the IPF federation\n",
    "dates = ['2024-12-12'] * num_lifters  # Same date for all lifters\n",
    "meet_names = ['Worlds'] * num_lifters  # Same meet name for all lifters\n",
    "\n",
    "# Create the DataFrame\n",
    "df = pd.DataFrame({\n",
    "    'Name': names,\n",
    "    'BodyweightKg': weights,\n",
    "    'TotalKg': total_kg,\n",
    "    'WeightClassKg': weight_classes,\n",
    "    'Federation': federations,\n",
    "    'Date': dates,\n",
    "    'MeetName': meet_names\n",
    "})\n",
    "\n",
    "# Save the DataFrame to a CSV file\n",
    "csv_file_path = 'male data/extra120+data'\n",
    "df.to_csv(csv_file_path, index=False)\n",
    "\n",
    "csv_file_path  # Return the path to the saved file\n",
    "\n"
   ],
   "metadata": {
    "collapsed": false,
    "ExecuteTime": {
     "end_time": "2025-01-09T20:35:33.090413Z",
     "start_time": "2025-01-09T20:35:33.079235Z"
    }
   },
   "outputs": [
    {
     "data": {
      "text/plain": [
       "'male data/extra120+data'"
      ]
     },
     "execution_count": 73,
     "metadata": {},
     "output_type": "execute_result"
    }
   ],
   "execution_count": 73
  }
 ],
 "metadata": {
  "kernelspec": {
   "display_name": "Python 3",
   "language": "python",
   "name": "python3"
  },
  "language_info": {
   "codemirror_mode": {
    "name": "ipython",
    "version": 2
   },
   "file_extension": ".py",
   "mimetype": "text/x-python",
   "name": "python",
   "nbconvert_exporter": "python",
   "pygments_lexer": "ipython2",
   "version": "2.7.6"
  }
 },
 "nbformat": 4,
 "nbformat_minor": 0
}
