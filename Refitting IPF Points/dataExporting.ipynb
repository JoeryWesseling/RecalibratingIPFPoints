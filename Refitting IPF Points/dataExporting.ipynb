{
 "cells": [
  {
   "cell_type": "code",
   "source": [
    "import pandas as pd\n",
    "import numpy as np\n",
    "import matplotlib\n",
    "import matplotlib.pyplot as plt\n",
    "from scipy.optimize import curve_fit\n"
   ],
   "metadata": {
    "collapsed": false,
    "ExecuteTime": {
     "end_time": "2025-01-05T11:24:35.877463Z",
     "start_time": "2025-01-05T11:24:31.782248Z"
    }
   },
   "outputs": [],
   "execution_count": 2
  },
  {
   "cell_type": "markdown",
   "source": [
    "## Importing the data from BIG CSV"
   ],
   "metadata": {
    "collapsed": false
   }
  },
  {
   "cell_type": "code",
   "source": [
    "data = pd.read_csv(\n",
    "    'Raw data/openipf-2024-12-28-acdecc3a.csv',\n",
    "    dtype={'BodyweightKg': 'float64', 'TotalKg': 'float64'},\n",
    "    low_memory=False\n",
    ")"
   ],
   "metadata": {
    "collapsed": false,
    "ExecuteTime": {
     "end_time": "2025-01-05T11:44:29.951880Z",
     "start_time": "2025-01-05T11:44:23.293826Z"
    }
   },
   "outputs": [],
   "execution_count": 99
  },
  {
   "cell_type": "code",
   "source": [
    "# Parse the 'Date' column to datetime format\n",
    "data['Date'] = pd.to_datetime(data['Date'], errors='coerce')\n"
   ],
   "metadata": {
    "collapsed": false,
    "ExecuteTime": {
     "end_time": "2025-01-05T11:44:31.334720Z",
     "start_time": "2025-01-05T11:44:31.245031Z"
    }
   },
   "outputs": [],
   "execution_count": 100
  },
  {
   "cell_type": "code",
   "source": [
    "# Filter for raw, full-power meets (SBD), males, and international meets from 2011 onwards\n",
    "filtered_data = data[\n",
    "    (data['Event'] == 'SBD') &              # Full power (SBD)\n",
    "    (data['Equipment'] == 'Raw') &         # Raw lifting\n",
    "    (data['Sex'] == 'F') &\n",
    "    (data['BodyweightKg'] >= 37.5)&\n",
    "    (data['Federation'].isin(['IPF', 'EPF'])) &  # International meets only\n",
    "    (data['Date'] >= '2011-01-01')&\n",
    "    # (data['Date'] <= '2024-06-15')\n",
    "    (data['Date'] <= '2020-04-30')\n",
    "]"
   ],
   "metadata": {
    "collapsed": false,
    "ExecuteTime": {
     "end_time": "2025-01-05T12:02:17.409288Z",
     "start_time": "2025-01-05T12:02:17.233277Z"
    }
   },
   "outputs": [],
   "execution_count": 160
  },
  {
   "cell_type": "code",
   "source": [
    "# Ensure necessary columns are present and drop missing values\n",
    "filtered_data = filtered_data[['Name', 'BodyweightKg', 'TotalKg', 'WeightClassKg', 'Federation', 'Date','MeetName']].dropna()\n",
    "\n",
    "filtered_data['MeetName'] = filtered_data['MeetName'].str.strip().str.lower()"
   ],
   "metadata": {
    "collapsed": false,
    "ExecuteTime": {
     "end_time": "2025-01-05T12:02:18.937499Z",
     "start_time": "2025-01-05T12:02:18.929464Z"
    }
   },
   "outputs": [],
   "execution_count": 161
  },
  {
   "cell_type": "code",
   "source": [
    "filtered_data.loc[:, 'Name'] = (\n",
    "    filtered_data['Name']\n",
    "    .str.strip()  # Remove leading/trailing spaces\n",
    "    .str.lower()  # Convert to lowercase for uniformity\n",
    ")"
   ],
   "metadata": {
    "collapsed": false,
    "ExecuteTime": {
     "end_time": "2025-01-05T12:02:20.731109Z",
     "start_time": "2025-01-05T12:02:20.724670Z"
    }
   },
   "outputs": [],
   "execution_count": 162
  },
  {
   "cell_type": "code",
   "source": [
    "\n",
    "# Retain the highest total per person per weight class\n",
    "filtered_data = filtered_data.loc[\n",
    "    filtered_data.groupby(['Name', 'WeightClassKg'])['TotalKg'].idxmax()\n",
    "].reset_index(drop=True)\n"
   ],
   "metadata": {
    "collapsed": false,
    "ExecuteTime": {
     "end_time": "2025-01-05T12:02:21.767757Z",
     "start_time": "2025-01-05T12:02:21.759089Z"
    }
   },
   "outputs": [],
   "execution_count": 163
  },
  {
   "metadata": {
    "ExecuteTime": {
     "end_time": "2025-01-05T11:44:42.756413Z",
     "start_time": "2025-01-05T11:44:42.752323Z"
    }
   },
   "cell_type": "code",
   "source": [
    "# Count the number of rows where WeightClassKg is '120+'\n",
    "count_120_plus = (filtered_data['WeightClassKg'] == '120+').sum()\n",
    "\n",
    "# Display the result\n",
    "print(f\"Number of lifters in the 120+ weight class: {count_120_plus}\")\n"
   ],
   "outputs": [
    {
     "name": "stdout",
     "output_type": "stream",
     "text": [
      "Number of lifters in the 120+ weight class: 414\n"
     ]
    }
   ],
   "execution_count": 105
  },
  {
   "cell_type": "code",
   "source": [
    "# Save the filtered data to a CSV\n",
    "filtered_data.to_csv('all_meets_beforeworldsfemale_ipf_epf.csv', index=False)\n",
    "print(\"Filtered data saved as 'filtered_data_ipf_epf.csv'.\")\n"
   ],
   "metadata": {
    "collapsed": false,
    "ExecuteTime": {
     "end_time": "2025-01-05T12:02:24.895707Z",
     "start_time": "2025-01-05T12:02:24.879528Z"
    }
   },
   "outputs": [
    {
     "name": "stdout",
     "output_type": "stream",
     "text": [
      "Filtered data saved as 'filtered_data_ipf_epf.csv'.\n"
     ]
    }
   ],
   "execution_count": 164
  },
  {
   "cell_type": "code",
   "source": [
    "\n",
    "\n",
    "# World records male 2024\n",
    "world_records = {\n",
    "     '59': 669.5, '66': 710.5, '74': 836.0, '83': 861.0, '93': 901.0,\n",
    "    '105': 940.5, '120': 978.5, '120+': 1152.5\n",
    "}"
   ],
   "metadata": {
    "collapsed": false,
    "ExecuteTime": {
     "end_time": "2025-01-05T12:00:13.134473Z",
     "start_time": "2025-01-05T12:00:13.130085Z"
    }
   },
   "outputs": [],
   "execution_count": 144
  },
  {
   "cell_type": "code",
   "source": [
    "# World records male 2020\n",
    "world_records = {\n",
    "    '59': 669.5, '66': 705.5, '74': 790.5, '83': 833, '93': 853.5,\n",
    "    '105': 895.5, '120': 978.5, '120+': 1105.5\n",
    "}"
   ],
   "metadata": {
    "collapsed": false,
    "ExecuteTime": {
     "end_time": "2025-01-05T12:01:28.601008Z",
     "start_time": "2025-01-05T12:01:28.595623Z"
    }
   },
   "outputs": [],
   "execution_count": 155
  },
  {
   "cell_type": "code",
   "source": [
    "\n",
    "# World records female 2020\n",
    "world_records = {'47': 407.5, '52': 432.5, '57': 473.5,\n",
    "                 '63': 543.5, '72': 543.5, '84': 613, '84+': 671.5\n",
    "}"
   ],
   "metadata": {
    "collapsed": false,
    "ExecuteTime": {
     "end_time": "2025-01-05T12:02:28.168024Z",
     "start_time": "2025-01-05T12:02:28.164670Z"
    }
   },
   "outputs": [],
   "execution_count": 165
  },
  {
   "cell_type": "code",
   "source": [
    "# world records female 2024\n",
    "world_records = {'47': 433.5, '52': 481, '57': 519.5,\n",
    "                 '63': 557.5, '69': 600, '76': 613, '84': 647, '84+': 731\n",
    "}"
   ],
   "metadata": {
    "collapsed": false,
    "ExecuteTime": {
     "end_time": "2025-01-05T11:55:43.501214Z",
     "start_time": "2025-01-05T11:55:43.498097Z"
    }
   },
   "outputs": [],
   "execution_count": 132
  },
  {
   "cell_type": "code",
   "source": [
    "# filtering for gold standard data\n",
    "filtered_data['WeightClassKg'] = filtered_data['WeightClassKg'].astype(str)\n",
    "gold_standard_data = filtered_data[\n",
    "    filtered_data.apply(\n",
    "        lambda row: row['TotalKg'] >= 0.84 * world_records.get(row['WeightClassKg'], np.inf), axis=1\n",
    "    )\n",
    "]"
   ],
   "metadata": {
    "collapsed": false,
    "ExecuteTime": {
     "end_time": "2025-01-05T12:02:29.973923Z",
     "start_time": "2025-01-05T12:02:29.954531Z"
    }
   },
   "outputs": [],
   "execution_count": 166
  },
  {
   "cell_type": "code",
   "source": [
    "# Standardize 'Name' column to ensure proper deduplication\n",
    "gold_standard_data.loc[:, 'Name'] = (\n",
    "    gold_standard_data['Name']\n",
    "    .str.strip()  # Remove leading/trailing spaces\n",
    "    .str.lower()  # Convert to lowercase for uniformity\n",
    ")"
   ],
   "metadata": {
    "collapsed": false,
    "ExecuteTime": {
     "end_time": "2025-01-05T12:02:31.139192Z",
     "start_time": "2025-01-05T12:02:31.134193Z"
    }
   },
   "outputs": [],
   "execution_count": 167
  },
  {
   "cell_type": "code",
   "source": [
    "# Deduplicate to retain only the top total for each lifter\n",
    "# Deduplicate to retain only the top total for each lifter per weight class\n",
    "gold_standard_data = gold_standard_data.loc[\n",
    "    gold_standard_data.groupby(['Name', 'WeightClassKg'])['TotalKg'].idxmax()\n",
    "].reset_index(drop=True)\n"
   ],
   "metadata": {
    "collapsed": false,
    "ExecuteTime": {
     "end_time": "2025-01-05T12:02:33.447916Z",
     "start_time": "2025-01-05T12:02:33.442079Z"
    }
   },
   "outputs": [],
   "execution_count": 168
  },
  {
   "metadata": {
    "ExecuteTime": {
     "end_time": "2025-01-05T12:02:34.470863Z",
     "start_time": "2025-01-05T12:02:34.375715Z"
    }
   },
   "cell_type": "code",
   "source": [
    "# Count the number of lifters per weight class\n",
    "weight_class_counts = gold_standard_data['WeightClassKg'].value_counts()\n",
    "\n",
    "# Convert to a DataFrame for better display\n",
    "weight_class_table = weight_class_counts.reset_index()\n",
    "weight_class_table.columns = ['WeightClassKg', 'GoldenSamplesCount']\n",
    "\n",
    "# Sort the table by GoldenSamplesCount in descending order\n",
    "weight_class_table = weight_class_table.sort_values(by='GoldenSamplesCount', ascending=False)\n",
    "\n",
    "# Display the sorted table\n",
    "import matplotlib.pyplot as plt\n",
    "\n",
    "# Plot the lifter count per weight class\n",
    "plt.figure(figsize=(8, 5))\n",
    "plt.bar(weight_class_table['WeightClassKg'], weight_class_table['GoldenSamplesCount'], color='#f7ce4d')\n",
    "plt.xlabel('Weight Class (kg)')\n",
    "plt.ylabel('Number of Lifters')\n",
    "plt.title('Number of Lifters per Weight Class')\n",
    "plt.show()\n",
    "\n"
   ],
   "outputs": [
    {
     "data": {
      "text/plain": [
       "<Figure size 800x500 with 1 Axes>"
      ],
      "image/png": "[encoded data removed]"
     },
     "metadata": {},
     "output_type": "display_data"
    }
   ],
   "execution_count": 169
  },
  {
   "cell_type": "code",
   "source": [
    "# Save the gold-standard data to a CSV\n",
    "gold_standard_data.to_csv('gold_standard_before_worlds_female_data_ipf_epf.csv', index=False)\n",
    "print(\"Gold standard data saved as 'gold_standard_data_ipf_epf.csv'.\")\n",
    "\n"
   ],
   "metadata": {
    "collapsed": false,
    "ExecuteTime": {
     "end_time": "2025-01-05T11:56:13.173414Z",
     "start_time": "2025-01-05T11:56:13.165741Z"
    }
   },
   "outputs": [
    {
     "name": "stdout",
     "output_type": "stream",
     "text": [
      "Gold standard data saved as 'gold_standard_data_ipf_epf.csv'.\n"
     ]
    }
   ],
   "execution_count": 137
  },
  {
   "cell_type": "code",
   "execution_count": null,
   "outputs": [],
   "source": [],
   "metadata": {
    "collapsed": false
   }
  }
 ],
 "metadata": {
  "kernelspec": {
   "display_name": "Python 3",
   "language": "python",
   "name": "python3"
  },
  "language_info": {
   "codemirror_mode": {
    "name": "ipython",
    "version": 2
   },
   "file_extension": ".py",
   "mimetype": "text/x-python",
   "name": "python",
   "nbconvert_exporter": "python",
   "pygments_lexer": "ipython2",
   "version": "2.7.6"
  }
 },
 "nbformat": 4,
 "nbformat_minor": 0
}
