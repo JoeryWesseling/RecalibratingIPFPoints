{
 "cells": [
  {
   "cell_type": "code",
   "source": [
    "import pandas as pd\n",
    "import numpy as np\n",
    "import matplotlib\n",
    "import matplotlib.pyplot as plt\n",
    "from scipy.optimize import curve_fit\n"
   ],
   "metadata": {
    "collapsed": false,
    "ExecuteTime": {
     "end_time": "2025-01-03T18:03:10.020670Z",
     "start_time": "2025-01-03T18:03:10.016160Z"
    }
   },
   "outputs": [],
   "execution_count": 6
  },
  {
   "cell_type": "markdown",
   "source": [
    "## Importing the data from BIG CSV"
   ],
   "metadata": {
    "collapsed": false
   }
  },
  {
   "cell_type": "code",
   "source": [
    "data = pd.read_csv(\n",
    "    'Raw data/openipf-2024-12-28-acdecc3a.csv',\n",
    "    dtype={'BodyweightKg': 'float64', 'TotalKg': 'float64'},\n",
    "    low_memory=False\n",
    ")"
   ],
   "metadata": {
    "collapsed": false,
    "ExecuteTime": {
     "end_time": "2025-01-03T18:03:35.487004Z",
     "start_time": "2025-01-03T18:03:28.742259Z"
    }
   },
   "outputs": [],
   "execution_count": 9
  },
  {
   "cell_type": "code",
   "source": [
    "# Parse the 'Date' column to datetime format\n",
    "data['Date'] = pd.to_datetime(data['Date'], errors='coerce')\n"
   ],
   "metadata": {
    "collapsed": false,
    "ExecuteTime": {
     "end_time": "2025-01-03T18:07:14.373198Z",
     "start_time": "2025-01-03T18:07:14.210798Z"
    }
   },
   "outputs": [],
   "execution_count": 20
  },
  {
   "cell_type": "code",
   "source": [
    "# Filter for raw, full-power meets (SBD), males, and international meets from 2011 onwards\n",
    "filtered_data = data[\n",
    "    (data['Event'] == 'SBD') &              # Full power (SBD)\n",
    "    (data['Equipment'] == 'Raw') &         # Raw lifting\n",
    "    (data['Sex'] == 'M') &\n",
    "    (data['BodyweightKg'] >= 37.5)&\n",
    "    # (data['Federation'].isin(['IPF', 'EPF'])) &  # International meets only\n",
    "    (data['Date'] >= '2011-01-01') &\n",
    "    (data['Date'] <= '2024-06-15')\n",
    "    # (data['Date'] <= '2020-04-30')\n",
    "]"
   ],
   "metadata": {
    "collapsed": false,
    "ExecuteTime": {
     "end_time": "2025-01-03T18:07:15.480189Z",
     "start_time": "2025-01-03T18:07:15.276919Z"
    }
   },
   "outputs": [],
   "execution_count": 21
  },
  {
   "cell_type": "code",
   "source": [
    "# Ensure necessary columns are present and drop missing values\n",
    "filtered_data = filtered_data[['Name', 'BodyweightKg', 'TotalKg', 'WeightClassKg', 'Federation', 'Date','MeetName']].dropna()\n",
    "\n",
    "filtered_data['MeetName'] = filtered_data['MeetName'].str.strip().str.lower()"
   ],
   "metadata": {
    "collapsed": false,
    "ExecuteTime": {
     "end_time": "2025-01-03T18:07:17.577482Z",
     "start_time": "2025-01-03T18:07:17.427042Z"
    }
   },
   "outputs": [],
   "execution_count": 22
  },
  {
   "cell_type": "code",
   "source": [
    "filtered_data.loc[:, 'Name'] = (\n",
    "    filtered_data['Name']\n",
    "    .str.strip()  # Remove leading/trailing spaces\n",
    "    .str.lower()  # Convert to lowercase for uniformity\n",
    ")"
   ],
   "metadata": {
    "collapsed": false,
    "ExecuteTime": {
     "end_time": "2025-01-03T18:07:19.356092Z",
     "start_time": "2025-01-03T18:07:19.258643Z"
    }
   },
   "outputs": [],
   "execution_count": 23
  },
  {
   "cell_type": "code",
   "source": [
    "\n",
    "# Retain the highest total per person per weight class\n",
    "filtered_data = filtered_data.loc[\n",
    "    filtered_data.groupby(['Name', 'WeightClassKg'])['TotalKg'].idxmax()\n",
    "].reset_index(drop=True)\n"
   ],
   "metadata": {
    "collapsed": false,
    "ExecuteTime": {
     "end_time": "2025-01-03T18:03:17.609977300Z",
     "start_time": "2025-01-01T14:52:53.109318Z"
    }
   },
   "outputs": [],
   "execution_count": 61
  },
  {
   "cell_type": "code",
   "source": [
    "# Save the filtered data to a CSV\n",
    "filtered_data.to_csv('all_meets_beforeworldsfemale_ipf_epf.csv', index=False)\n",
    "print(\"Filtered data saved as 'filtered_data_ipf_epf.csv'.\")\n"
   ],
   "metadata": {
    "collapsed": false,
    "ExecuteTime": {
     "end_time": "2025-01-03T18:03:17.625454Z",
     "start_time": "2025-01-01T14:53:05.235079Z"
    }
   },
   "outputs": [
    {
     "name": "stdout",
     "output_type": "stream",
     "text": [
      "Filtered data saved as 'filtered_data_ipf_epf.csv'.\n"
     ]
    }
   ],
   "execution_count": 62
  },
  {
   "metadata": {
    "ExecuteTime": {
     "end_time": "2025-01-03T18:07:22.124877Z",
     "start_time": "2025-01-03T18:07:22.051159Z"
    }
   },
   "cell_type": "code",
   "source": [
    "filtered_data.sort_values('BodyweightKg', ascending=False, inplace=True)\n",
    "top10 = filtered_data.head(10)\n",
    "display(top10)"
   ],
   "outputs": [
    {
     "data": {
      "text/plain": [
       "                                  Name  BodyweightKg  TotalKg WeightClassKg  \\\n",
       "486664   javier alberto salazar pasten         260.0    695.0          120+   \n",
       "376369                  joshua sprouse         233.0    392.5          120+   \n",
       "376367                  joshua sprouse         233.0    392.5          120+   \n",
       "366187                  robert stolley         231.0    450.0          120+   \n",
       "386282                  joshua sprouse         230.7    357.5          120+   \n",
       "1156626             timothy edwards #1         226.7    565.0          120+   \n",
       "295044                  joshua sprouse         225.0    385.0          125+   \n",
       "304095                     jorge munoz         220.4    535.0          120+   \n",
       "359869                  joshua sprouse         220.2    347.5          120+   \n",
       "182235                 rajmund schwarz         217.5    610.0          120+   \n",
       "\n",
       "        Federation       Date  \\\n",
       "486664      FEMEPO 2022-03-18   \n",
       "376369       USAPL 2016-02-20   \n",
       "376367       USAPL 2016-02-20   \n",
       "366187       USAPL 2018-04-28   \n",
       "386282       USAPL 2015-05-09   \n",
       "1156626        AMP 2022-06-18   \n",
       "295044       USAPL 2014-03-15   \n",
       "304095       USAPL 2020-08-08   \n",
       "359869       USAPL 2017-06-03   \n",
       "182235    Hunpower 2023-04-29   \n",
       "\n",
       "                                                  MeetName  \n",
       "486664                                 campeonato nacional  \n",
       "376369                         alabama state championships  \n",
       "376367                         alabama state championships  \n",
       "366187                         nebraska state championship  \n",
       "386282                                         border bash  \n",
       "1156626                                          nationals  \n",
       "295044             alabama state powerlifting championship  \n",
       "304095                              return to the platform  \n",
       "359869                                    gulf breeze open  \n",
       "182235   hungarian national classic powerlifting champi...  "
      ],
      "text/html": [
       "<div>\n",
       "<style scoped>\n",
       "    .dataframe tbody tr th:only-of-type {\n",
       "        vertical-align: middle;\n",
       "    }\n",
       "\n",
       "    .dataframe tbody tr th {\n",
       "        vertical-align: top;\n",
       "    }\n",
       "\n",
       "    .dataframe thead th {\n",
       "        text-align: right;\n",
       "    }\n",
       "</style>\n",
       "<table border=\"1\" class=\"dataframe\">\n",
       "  <thead>\n",
       "    <tr style=\"text-align: right;\">\n",
       "      <th></th>\n",
       "      <th>Name</th>\n",
       "      <th>BodyweightKg</th>\n",
       "      <th>TotalKg</th>\n",
       "      <th>WeightClassKg</th>\n",
       "      <th>Federation</th>\n",
       "      <th>Date</th>\n",
       "      <th>MeetName</th>\n",
       "    </tr>\n",
       "  </thead>\n",
       "  <tbody>\n",
       "    <tr>\n",
       "      <th>486664</th>\n",
       "      <td>javier alberto salazar pasten</td>\n",
       "      <td>260.0</td>\n",
       "      <td>695.0</td>\n",
       "      <td>120+</td>\n",
       "      <td>FEMEPO</td>\n",
       "      <td>2022-03-18</td>\n",
       "      <td>campeonato nacional</td>\n",
       "    </tr>\n",
       "    <tr>\n",
       "      <th>376369</th>\n",
       "      <td>joshua sprouse</td>\n",
       "      <td>233.0</td>\n",
       "      <td>392.5</td>\n",
       "      <td>120+</td>\n",
       "      <td>USAPL</td>\n",
       "      <td>2016-02-20</td>\n",
       "      <td>alabama state championships</td>\n",
       "    </tr>\n",
       "    <tr>\n",
       "      <th>376367</th>\n",
       "      <td>joshua sprouse</td>\n",
       "      <td>233.0</td>\n",
       "      <td>392.5</td>\n",
       "      <td>120+</td>\n",
       "      <td>USAPL</td>\n",
       "      <td>2016-02-20</td>\n",
       "      <td>alabama state championships</td>\n",
       "    </tr>\n",
       "    <tr>\n",
       "      <th>366187</th>\n",
       "      <td>robert stolley</td>\n",
       "      <td>231.0</td>\n",
       "      <td>450.0</td>\n",
       "      <td>120+</td>\n",
       "      <td>USAPL</td>\n",
       "      <td>2018-04-28</td>\n",
       "      <td>nebraska state championship</td>\n",
       "    </tr>\n",
       "    <tr>\n",
       "      <th>386282</th>\n",
       "      <td>joshua sprouse</td>\n",
       "      <td>230.7</td>\n",
       "      <td>357.5</td>\n",
       "      <td>120+</td>\n",
       "      <td>USAPL</td>\n",
       "      <td>2015-05-09</td>\n",
       "      <td>border bash</td>\n",
       "    </tr>\n",
       "    <tr>\n",
       "      <th>1156626</th>\n",
       "      <td>timothy edwards #1</td>\n",
       "      <td>226.7</td>\n",
       "      <td>565.0</td>\n",
       "      <td>120+</td>\n",
       "      <td>AMP</td>\n",
       "      <td>2022-06-18</td>\n",
       "      <td>nationals</td>\n",
       "    </tr>\n",
       "    <tr>\n",
       "      <th>295044</th>\n",
       "      <td>joshua sprouse</td>\n",
       "      <td>225.0</td>\n",
       "      <td>385.0</td>\n",
       "      <td>125+</td>\n",
       "      <td>USAPL</td>\n",
       "      <td>2014-03-15</td>\n",
       "      <td>alabama state powerlifting championship</td>\n",
       "    </tr>\n",
       "    <tr>\n",
       "      <th>304095</th>\n",
       "      <td>jorge munoz</td>\n",
       "      <td>220.4</td>\n",
       "      <td>535.0</td>\n",
       "      <td>120+</td>\n",
       "      <td>USAPL</td>\n",
       "      <td>2020-08-08</td>\n",
       "      <td>return to the platform</td>\n",
       "    </tr>\n",
       "    <tr>\n",
       "      <th>359869</th>\n",
       "      <td>joshua sprouse</td>\n",
       "      <td>220.2</td>\n",
       "      <td>347.5</td>\n",
       "      <td>120+</td>\n",
       "      <td>USAPL</td>\n",
       "      <td>2017-06-03</td>\n",
       "      <td>gulf breeze open</td>\n",
       "    </tr>\n",
       "    <tr>\n",
       "      <th>182235</th>\n",
       "      <td>rajmund schwarz</td>\n",
       "      <td>217.5</td>\n",
       "      <td>610.0</td>\n",
       "      <td>120+</td>\n",
       "      <td>Hunpower</td>\n",
       "      <td>2023-04-29</td>\n",
       "      <td>hungarian national classic powerlifting champi...</td>\n",
       "    </tr>\n",
       "  </tbody>\n",
       "</table>\n",
       "</div>"
      ]
     },
     "metadata": {},
     "output_type": "display_data"
    }
   ],
   "execution_count": 24
  },
  {
   "cell_type": "code",
   "execution_count": 124,
   "outputs": [],
   "source": [
    "\n",
    "\n",
    "# World records male 2024\n",
    "world_records = {\n",
    "     '59': 669.5, '66': 710.5, '74': 836.0, '83': 861.0, '93': 901.0,\n",
    "    '105': 940.5, '120': 978.5, '120+': 1152.5  # Example values\n",
    "}"
   ],
   "metadata": {
    "collapsed": false,
    "ExecuteTime": {
     "end_time": "2025-01-03T18:03:17.628453900Z",
     "start_time": "2024-12-31T16:19:37.016867Z"
    }
   }
  },
  {
   "cell_type": "code",
   "execution_count": 111,
   "outputs": [],
   "source": [
    "# World records male 2020\n",
    "world_records = {\n",
    "    '59': 669.5, '66': 705.5, '74': 790.5, '83': 833, '93': 853.5,\n",
    "    '105': 895.5, '120': 978.5, '120+': 1105.5\n",
    "}"
   ],
   "metadata": {
    "collapsed": false,
    "ExecuteTime": {
     "end_time": "2025-01-03T18:03:17.638065800Z",
     "start_time": "2024-12-31T14:54:26.679510Z"
    }
   }
  },
  {
   "cell_type": "code",
   "execution_count": 72,
   "outputs": [],
   "source": [
    "\n",
    "# World records female 2020\n",
    "world_records = {'47': 407.5, '52': 432.5, '57': 473.5,\n",
    "                 '63': 543.5, '72': 543.5, '84': 613, '84+': 671.5\n",
    "}"
   ],
   "metadata": {
    "collapsed": false,
    "ExecuteTime": {
     "end_time": "2025-01-03T18:03:17.639074800Z",
     "start_time": "2024-12-31T14:46:15.799573Z"
    }
   }
  },
  {
   "cell_type": "code",
   "source": [
    "# world records female 2024\n",
    "world_records = {'47': 433.5, '52': 481, '57': 519.5,\n",
    "                 '63': 557.5, '69': 600, '76': 613, '84': 647, '84+': 731\n",
    "}"
   ],
   "metadata": {
    "collapsed": false,
    "ExecuteTime": {
     "end_time": "2025-01-03T18:03:17.639074800Z",
     "start_time": "2025-01-01T14:53:09.475558Z"
    }
   },
   "outputs": [],
   "execution_count": 63
  },
  {
   "cell_type": "code",
   "source": [
    "# filtering for gold standard data\n",
    "filtered_data['WeightClassKg'] = filtered_data['WeightClassKg'].astype(str)\n",
    "gold_standard_data = filtered_data[\n",
    "    filtered_data.apply(\n",
    "        lambda row: row['TotalKg'] >= 0.84 * world_records.get(row['WeightClassKg'], np.inf), axis=1\n",
    "    )\n",
    "]"
   ],
   "metadata": {
    "collapsed": false,
    "ExecuteTime": {
     "end_time": "2025-01-03T18:03:17.642177Z",
     "start_time": "2025-01-01T14:53:12.739739Z"
    }
   },
   "outputs": [],
   "execution_count": 64
  },
  {
   "cell_type": "code",
   "source": [
    "# Standardize 'Name' column to ensure proper deduplication\n",
    "gold_standard_data.loc[:, 'Name'] = (\n",
    "    gold_standard_data['Name']\n",
    "    .str.strip()  # Remove leading/trailing spaces\n",
    "    .str.lower()  # Convert to lowercase for uniformity\n",
    ")"
   ],
   "metadata": {
    "collapsed": false,
    "ExecuteTime": {
     "end_time": "2025-01-03T18:03:17.642796400Z",
     "start_time": "2025-01-01T14:53:17.548729Z"
    }
   },
   "outputs": [],
   "execution_count": 65
  },
  {
   "cell_type": "code",
   "source": [
    "# Deduplicate to retain only the top total for each lifter\n",
    "# Deduplicate to retain only the top total for each lifter per weight class\n",
    "gold_standard_data = gold_standard_data.loc[\n",
    "    gold_standard_data.groupby(['Name', 'WeightClassKg'])['TotalKg'].idxmax()\n",
    "].reset_index(drop=True)\n"
   ],
   "metadata": {
    "collapsed": false,
    "ExecuteTime": {
     "end_time": "2025-01-03T18:03:17.643319800Z",
     "start_time": "2025-01-01T14:53:18.419121Z"
    }
   },
   "outputs": [],
   "execution_count": 66
  },
  {
   "cell_type": "code",
   "source": [
    "# Save the gold-standard data to a CSV\n",
    "gold_standard_data.to_csv('gold_standard_before_worlds_female_data_ipf_epf.csv', index=False)\n",
    "print(\"Gold standard data saved as 'gold_standard_data_ipf_epf.csv'.\")\n",
    "\n"
   ],
   "metadata": {
    "collapsed": false,
    "ExecuteTime": {
     "end_time": "2025-01-03T18:03:17.644328900Z",
     "start_time": "2025-01-01T14:53:28.020497Z"
    }
   },
   "outputs": [
    {
     "name": "stdout",
     "output_type": "stream",
     "text": [
      "Gold standard data saved as 'gold_standard_data_ipf_epf.csv'.\n"
     ]
    }
   ],
   "execution_count": 67
  },
  {
   "cell_type": "code",
   "execution_count": null,
   "outputs": [],
   "source": [],
   "metadata": {
    "collapsed": false
   }
  }
 ],
 "metadata": {
  "kernelspec": {
   "display_name": "Python 3",
   "language": "python",
   "name": "python3"
  },
  "language_info": {
   "codemirror_mode": {
    "name": "ipython",
    "version": 2
   },
   "file_extension": ".py",
   "mimetype": "text/x-python",
   "name": "python",
   "nbconvert_exporter": "python",
   "pygments_lexer": "ipython2",
   "version": "2.7.6"
  }
 },
 "nbformat": 4,
 "nbformat_minor": 0
}
