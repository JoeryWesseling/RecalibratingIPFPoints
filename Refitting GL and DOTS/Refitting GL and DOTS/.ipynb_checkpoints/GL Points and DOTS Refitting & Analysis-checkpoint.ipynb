{
 "cells": [
  {
   "cell_type": "markdown",
   "id": "4ba4d464",
   "metadata": {},
   "source": [
    "## GL Points and DOTS Refitting & Analysis"
   ]
  },
  {
   "cell_type": "code",
   "execution_count": 1,
   "id": "fdd1f4d8",
   "metadata": {
    "ExecuteTime": {
     "start_time": "2024-12-30T16:01:28.059859Z",
     "end_time": "2024-12-30T16:01:32.561723Z"
    }
   },
   "outputs": [],
   "source": [
    "import numpy as np\n",
    "import matplotlib.pyplot as plt\n",
    "import pandas as pd\n",
    "from scipy.optimize import curve_fit\n",
    "from matplotlib import pyplot\n",
    "pyplot.rcParams['figure.dpi'] = 100\n",
    "pyplot.rcParams['savefig.dpi'] = 300"
   ]
  },
  {
   "cell_type": "code",
   "execution_count": 2,
   "id": "14039474",
   "metadata": {
    "ExecuteTime": {
     "start_time": "2024-12-30T16:01:32.564722Z",
     "end_time": "2024-12-30T16:01:32.567891Z"
    }
   },
   "outputs": [],
   "source": [
    "old_coef = [1199.72839, 1025.18162, 0.00921]\n",
    "bwts = np.linspace(50, 200, 1000)\n",
    "\n",
    "def ipf_formula(bwt, A, B, C):\n",
    "    return (A - B * np.exp(-C * bwt))"
   ]
  },
  {
   "cell_type": "markdown",
   "id": "94145a26",
   "metadata": {},
   "source": [
    "### Refitting GL Points on new data"
   ]
  },
  {
   "cell_type": "code",
   "execution_count": 3,
   "id": "5d2ee7ad",
   "metadata": {},
   "outputs": [
    {
     "ename": "FileNotFoundError",
     "evalue": "[Errno 2] No such file or directory: 'gold_standard_data_ipf_epf.csv'",
     "output_type": "error",
     "traceback": [
      "\u001B[1;31m---------------------------------------------------------------------------\u001B[0m",
      "\u001B[1;31mFileNotFoundError\u001B[0m                         Traceback (most recent call last)",
      "Cell \u001B[1;32mIn[3], line 1\u001B[0m\n\u001B[1;32m----> 1\u001B[0m data \u001B[38;5;241m=\u001B[39m \u001B[43mpd\u001B[49m\u001B[38;5;241;43m.\u001B[39;49m\u001B[43mread_csv\u001B[49m\u001B[43m(\u001B[49m\u001B[38;5;124;43m\"\u001B[39;49m\u001B[38;5;124;43mgold_standard_data_ipf_epf.csv\u001B[39;49m\u001B[38;5;124;43m\"\u001B[39;49m\u001B[43m)\u001B[49m\n\u001B[0;32m      2\u001B[0m popt, pcov \u001B[38;5;241m=\u001B[39m curve_fit(ipf_formula, data[\u001B[38;5;124m'\u001B[39m\u001B[38;5;124mBodyweightKg\u001B[39m\u001B[38;5;124m'\u001B[39m]\u001B[38;5;241m.\u001B[39mvalues, data[\u001B[38;5;124m'\u001B[39m\u001B[38;5;124mTotalKg\u001B[39m\u001B[38;5;124m'\u001B[39m], p0\u001B[38;5;241m=\u001B[39mold_coef)\n\u001B[0;32m      3\u001B[0m new_coef \u001B[38;5;241m=\u001B[39m popt\n",
      "File \u001B[1;32m~\\AppData\\Local\\Programs\\Python\\Python311\\Lib\\site-packages\\pandas\\io\\parsers\\readers.py:1026\u001B[0m, in \u001B[0;36mread_csv\u001B[1;34m(filepath_or_buffer, sep, delimiter, header, names, index_col, usecols, dtype, engine, converters, true_values, false_values, skipinitialspace, skiprows, skipfooter, nrows, na_values, keep_default_na, na_filter, verbose, skip_blank_lines, parse_dates, infer_datetime_format, keep_date_col, date_parser, date_format, dayfirst, cache_dates, iterator, chunksize, compression, thousands, decimal, lineterminator, quotechar, quoting, doublequote, escapechar, comment, encoding, encoding_errors, dialect, on_bad_lines, delim_whitespace, low_memory, memory_map, float_precision, storage_options, dtype_backend)\u001B[0m\n\u001B[0;32m   1013\u001B[0m kwds_defaults \u001B[38;5;241m=\u001B[39m _refine_defaults_read(\n\u001B[0;32m   1014\u001B[0m     dialect,\n\u001B[0;32m   1015\u001B[0m     delimiter,\n\u001B[1;32m   (...)\u001B[0m\n\u001B[0;32m   1022\u001B[0m     dtype_backend\u001B[38;5;241m=\u001B[39mdtype_backend,\n\u001B[0;32m   1023\u001B[0m )\n\u001B[0;32m   1024\u001B[0m kwds\u001B[38;5;241m.\u001B[39mupdate(kwds_defaults)\n\u001B[1;32m-> 1026\u001B[0m \u001B[38;5;28;01mreturn\u001B[39;00m \u001B[43m_read\u001B[49m\u001B[43m(\u001B[49m\u001B[43mfilepath_or_buffer\u001B[49m\u001B[43m,\u001B[49m\u001B[43m \u001B[49m\u001B[43mkwds\u001B[49m\u001B[43m)\u001B[49m\n",
      "File \u001B[1;32m~\\AppData\\Local\\Programs\\Python\\Python311\\Lib\\site-packages\\pandas\\io\\parsers\\readers.py:620\u001B[0m, in \u001B[0;36m_read\u001B[1;34m(filepath_or_buffer, kwds)\u001B[0m\n\u001B[0;32m    617\u001B[0m _validate_names(kwds\u001B[38;5;241m.\u001B[39mget(\u001B[38;5;124m\"\u001B[39m\u001B[38;5;124mnames\u001B[39m\u001B[38;5;124m\"\u001B[39m, \u001B[38;5;28;01mNone\u001B[39;00m))\n\u001B[0;32m    619\u001B[0m \u001B[38;5;66;03m# Create the parser.\u001B[39;00m\n\u001B[1;32m--> 620\u001B[0m parser \u001B[38;5;241m=\u001B[39m \u001B[43mTextFileReader\u001B[49m\u001B[43m(\u001B[49m\u001B[43mfilepath_or_buffer\u001B[49m\u001B[43m,\u001B[49m\u001B[43m \u001B[49m\u001B[38;5;241;43m*\u001B[39;49m\u001B[38;5;241;43m*\u001B[39;49m\u001B[43mkwds\u001B[49m\u001B[43m)\u001B[49m\n\u001B[0;32m    622\u001B[0m \u001B[38;5;28;01mif\u001B[39;00m chunksize \u001B[38;5;129;01mor\u001B[39;00m iterator:\n\u001B[0;32m    623\u001B[0m     \u001B[38;5;28;01mreturn\u001B[39;00m parser\n",
      "File \u001B[1;32m~\\AppData\\Local\\Programs\\Python\\Python311\\Lib\\site-packages\\pandas\\io\\parsers\\readers.py:1620\u001B[0m, in \u001B[0;36mTextFileReader.__init__\u001B[1;34m(self, f, engine, **kwds)\u001B[0m\n\u001B[0;32m   1617\u001B[0m     \u001B[38;5;28mself\u001B[39m\u001B[38;5;241m.\u001B[39moptions[\u001B[38;5;124m\"\u001B[39m\u001B[38;5;124mhas_index_names\u001B[39m\u001B[38;5;124m\"\u001B[39m] \u001B[38;5;241m=\u001B[39m kwds[\u001B[38;5;124m\"\u001B[39m\u001B[38;5;124mhas_index_names\u001B[39m\u001B[38;5;124m\"\u001B[39m]\n\u001B[0;32m   1619\u001B[0m \u001B[38;5;28mself\u001B[39m\u001B[38;5;241m.\u001B[39mhandles: IOHandles \u001B[38;5;241m|\u001B[39m \u001B[38;5;28;01mNone\u001B[39;00m \u001B[38;5;241m=\u001B[39m \u001B[38;5;28;01mNone\u001B[39;00m\n\u001B[1;32m-> 1620\u001B[0m \u001B[38;5;28mself\u001B[39m\u001B[38;5;241m.\u001B[39m_engine \u001B[38;5;241m=\u001B[39m \u001B[38;5;28;43mself\u001B[39;49m\u001B[38;5;241;43m.\u001B[39;49m\u001B[43m_make_engine\u001B[49m\u001B[43m(\u001B[49m\u001B[43mf\u001B[49m\u001B[43m,\u001B[49m\u001B[43m \u001B[49m\u001B[38;5;28;43mself\u001B[39;49m\u001B[38;5;241;43m.\u001B[39;49m\u001B[43mengine\u001B[49m\u001B[43m)\u001B[49m\n",
      "File \u001B[1;32m~\\AppData\\Local\\Programs\\Python\\Python311\\Lib\\site-packages\\pandas\\io\\parsers\\readers.py:1880\u001B[0m, in \u001B[0;36mTextFileReader._make_engine\u001B[1;34m(self, f, engine)\u001B[0m\n\u001B[0;32m   1878\u001B[0m     \u001B[38;5;28;01mif\u001B[39;00m \u001B[38;5;124m\"\u001B[39m\u001B[38;5;124mb\u001B[39m\u001B[38;5;124m\"\u001B[39m \u001B[38;5;129;01mnot\u001B[39;00m \u001B[38;5;129;01min\u001B[39;00m mode:\n\u001B[0;32m   1879\u001B[0m         mode \u001B[38;5;241m+\u001B[39m\u001B[38;5;241m=\u001B[39m \u001B[38;5;124m\"\u001B[39m\u001B[38;5;124mb\u001B[39m\u001B[38;5;124m\"\u001B[39m\n\u001B[1;32m-> 1880\u001B[0m \u001B[38;5;28mself\u001B[39m\u001B[38;5;241m.\u001B[39mhandles \u001B[38;5;241m=\u001B[39m \u001B[43mget_handle\u001B[49m\u001B[43m(\u001B[49m\n\u001B[0;32m   1881\u001B[0m \u001B[43m    \u001B[49m\u001B[43mf\u001B[49m\u001B[43m,\u001B[49m\n\u001B[0;32m   1882\u001B[0m \u001B[43m    \u001B[49m\u001B[43mmode\u001B[49m\u001B[43m,\u001B[49m\n\u001B[0;32m   1883\u001B[0m \u001B[43m    \u001B[49m\u001B[43mencoding\u001B[49m\u001B[38;5;241;43m=\u001B[39;49m\u001B[38;5;28;43mself\u001B[39;49m\u001B[38;5;241;43m.\u001B[39;49m\u001B[43moptions\u001B[49m\u001B[38;5;241;43m.\u001B[39;49m\u001B[43mget\u001B[49m\u001B[43m(\u001B[49m\u001B[38;5;124;43m\"\u001B[39;49m\u001B[38;5;124;43mencoding\u001B[39;49m\u001B[38;5;124;43m\"\u001B[39;49m\u001B[43m,\u001B[49m\u001B[43m \u001B[49m\u001B[38;5;28;43;01mNone\u001B[39;49;00m\u001B[43m)\u001B[49m\u001B[43m,\u001B[49m\n\u001B[0;32m   1884\u001B[0m \u001B[43m    \u001B[49m\u001B[43mcompression\u001B[49m\u001B[38;5;241;43m=\u001B[39;49m\u001B[38;5;28;43mself\u001B[39;49m\u001B[38;5;241;43m.\u001B[39;49m\u001B[43moptions\u001B[49m\u001B[38;5;241;43m.\u001B[39;49m\u001B[43mget\u001B[49m\u001B[43m(\u001B[49m\u001B[38;5;124;43m\"\u001B[39;49m\u001B[38;5;124;43mcompression\u001B[39;49m\u001B[38;5;124;43m\"\u001B[39;49m\u001B[43m,\u001B[49m\u001B[43m \u001B[49m\u001B[38;5;28;43;01mNone\u001B[39;49;00m\u001B[43m)\u001B[49m\u001B[43m,\u001B[49m\n\u001B[0;32m   1885\u001B[0m \u001B[43m    \u001B[49m\u001B[43mmemory_map\u001B[49m\u001B[38;5;241;43m=\u001B[39;49m\u001B[38;5;28;43mself\u001B[39;49m\u001B[38;5;241;43m.\u001B[39;49m\u001B[43moptions\u001B[49m\u001B[38;5;241;43m.\u001B[39;49m\u001B[43mget\u001B[49m\u001B[43m(\u001B[49m\u001B[38;5;124;43m\"\u001B[39;49m\u001B[38;5;124;43mmemory_map\u001B[39;49m\u001B[38;5;124;43m\"\u001B[39;49m\u001B[43m,\u001B[49m\u001B[43m \u001B[49m\u001B[38;5;28;43;01mFalse\u001B[39;49;00m\u001B[43m)\u001B[49m\u001B[43m,\u001B[49m\n\u001B[0;32m   1886\u001B[0m \u001B[43m    \u001B[49m\u001B[43mis_text\u001B[49m\u001B[38;5;241;43m=\u001B[39;49m\u001B[43mis_text\u001B[49m\u001B[43m,\u001B[49m\n\u001B[0;32m   1887\u001B[0m \u001B[43m    \u001B[49m\u001B[43merrors\u001B[49m\u001B[38;5;241;43m=\u001B[39;49m\u001B[38;5;28;43mself\u001B[39;49m\u001B[38;5;241;43m.\u001B[39;49m\u001B[43moptions\u001B[49m\u001B[38;5;241;43m.\u001B[39;49m\u001B[43mget\u001B[49m\u001B[43m(\u001B[49m\u001B[38;5;124;43m\"\u001B[39;49m\u001B[38;5;124;43mencoding_errors\u001B[39;49m\u001B[38;5;124;43m\"\u001B[39;49m\u001B[43m,\u001B[49m\u001B[43m \u001B[49m\u001B[38;5;124;43m\"\u001B[39;49m\u001B[38;5;124;43mstrict\u001B[39;49m\u001B[38;5;124;43m\"\u001B[39;49m\u001B[43m)\u001B[49m\u001B[43m,\u001B[49m\n\u001B[0;32m   1888\u001B[0m \u001B[43m    \u001B[49m\u001B[43mstorage_options\u001B[49m\u001B[38;5;241;43m=\u001B[39;49m\u001B[38;5;28;43mself\u001B[39;49m\u001B[38;5;241;43m.\u001B[39;49m\u001B[43moptions\u001B[49m\u001B[38;5;241;43m.\u001B[39;49m\u001B[43mget\u001B[49m\u001B[43m(\u001B[49m\u001B[38;5;124;43m\"\u001B[39;49m\u001B[38;5;124;43mstorage_options\u001B[39;49m\u001B[38;5;124;43m\"\u001B[39;49m\u001B[43m,\u001B[49m\u001B[43m \u001B[49m\u001B[38;5;28;43;01mNone\u001B[39;49;00m\u001B[43m)\u001B[49m\u001B[43m,\u001B[49m\n\u001B[0;32m   1889\u001B[0m \u001B[43m\u001B[49m\u001B[43m)\u001B[49m\n\u001B[0;32m   1890\u001B[0m \u001B[38;5;28;01massert\u001B[39;00m \u001B[38;5;28mself\u001B[39m\u001B[38;5;241m.\u001B[39mhandles \u001B[38;5;129;01mis\u001B[39;00m \u001B[38;5;129;01mnot\u001B[39;00m \u001B[38;5;28;01mNone\u001B[39;00m\n\u001B[0;32m   1891\u001B[0m f \u001B[38;5;241m=\u001B[39m \u001B[38;5;28mself\u001B[39m\u001B[38;5;241m.\u001B[39mhandles\u001B[38;5;241m.\u001B[39mhandle\n",
      "File \u001B[1;32m~\\AppData\\Local\\Programs\\Python\\Python311\\Lib\\site-packages\\pandas\\io\\common.py:873\u001B[0m, in \u001B[0;36mget_handle\u001B[1;34m(path_or_buf, mode, encoding, compression, memory_map, is_text, errors, storage_options)\u001B[0m\n\u001B[0;32m    868\u001B[0m \u001B[38;5;28;01melif\u001B[39;00m \u001B[38;5;28misinstance\u001B[39m(handle, \u001B[38;5;28mstr\u001B[39m):\n\u001B[0;32m    869\u001B[0m     \u001B[38;5;66;03m# Check whether the filename is to be opened in binary mode.\u001B[39;00m\n\u001B[0;32m    870\u001B[0m     \u001B[38;5;66;03m# Binary mode does not support 'encoding' and 'newline'.\u001B[39;00m\n\u001B[0;32m    871\u001B[0m     \u001B[38;5;28;01mif\u001B[39;00m ioargs\u001B[38;5;241m.\u001B[39mencoding \u001B[38;5;129;01mand\u001B[39;00m \u001B[38;5;124m\"\u001B[39m\u001B[38;5;124mb\u001B[39m\u001B[38;5;124m\"\u001B[39m \u001B[38;5;129;01mnot\u001B[39;00m \u001B[38;5;129;01min\u001B[39;00m ioargs\u001B[38;5;241m.\u001B[39mmode:\n\u001B[0;32m    872\u001B[0m         \u001B[38;5;66;03m# Encoding\u001B[39;00m\n\u001B[1;32m--> 873\u001B[0m         handle \u001B[38;5;241m=\u001B[39m \u001B[38;5;28;43mopen\u001B[39;49m\u001B[43m(\u001B[49m\n\u001B[0;32m    874\u001B[0m \u001B[43m            \u001B[49m\u001B[43mhandle\u001B[49m\u001B[43m,\u001B[49m\n\u001B[0;32m    875\u001B[0m \u001B[43m            \u001B[49m\u001B[43mioargs\u001B[49m\u001B[38;5;241;43m.\u001B[39;49m\u001B[43mmode\u001B[49m\u001B[43m,\u001B[49m\n\u001B[0;32m    876\u001B[0m \u001B[43m            \u001B[49m\u001B[43mencoding\u001B[49m\u001B[38;5;241;43m=\u001B[39;49m\u001B[43mioargs\u001B[49m\u001B[38;5;241;43m.\u001B[39;49m\u001B[43mencoding\u001B[49m\u001B[43m,\u001B[49m\n\u001B[0;32m    877\u001B[0m \u001B[43m            \u001B[49m\u001B[43merrors\u001B[49m\u001B[38;5;241;43m=\u001B[39;49m\u001B[43merrors\u001B[49m\u001B[43m,\u001B[49m\n\u001B[0;32m    878\u001B[0m \u001B[43m            \u001B[49m\u001B[43mnewline\u001B[49m\u001B[38;5;241;43m=\u001B[39;49m\u001B[38;5;124;43m\"\u001B[39;49m\u001B[38;5;124;43m\"\u001B[39;49m\u001B[43m,\u001B[49m\n\u001B[0;32m    879\u001B[0m \u001B[43m        \u001B[49m\u001B[43m)\u001B[49m\n\u001B[0;32m    880\u001B[0m     \u001B[38;5;28;01melse\u001B[39;00m:\n\u001B[0;32m    881\u001B[0m         \u001B[38;5;66;03m# Binary mode\u001B[39;00m\n\u001B[0;32m    882\u001B[0m         handle \u001B[38;5;241m=\u001B[39m \u001B[38;5;28mopen\u001B[39m(handle, ioargs\u001B[38;5;241m.\u001B[39mmode)\n",
      "\u001B[1;31mFileNotFoundError\u001B[0m: [Errno 2] No such file or directory: 'gold_standard_data_ipf_epf.csv'"
     ]
    }
   ],
   "source": [
    "data = pd.read_csv(\"gold_standard_data_ipf_epf.csv\")\n",
    "popt, pcov = curve_fit(ipf_formula, data['BodyweightKg'].values, data['TotalKg'], p0=old_coef)\n",
    "new_coef = popt"
   ]
  },
  {
   "cell_type": "code",
   "execution_count": null,
   "id": "c33f130d",
   "metadata": {},
   "outputs": [],
   "source": [
    "plt.figure(figsize=(8, 5))\n",
    "plt.plot(bwts, ipf_formula(bwts, *old_coef), c = 'r', label='Old Model')\n",
    "plt.plot(bwts, ipf_formula(bwts, *new_coef),  c = 'g', label='Refitted Model')\n",
    "plt.scatter(data['BodyweightKg'].values, data['TotalKg'], alpha=0.2, s = 1.5, color=\"blue\")\n",
    "plt.ylabel(\"Expected total [kg]\")\n",
    "plt.xlabel('Bodyweight [kg]')\n",
    "plt.legend()"
   ]
  },
  {
   "cell_type": "markdown",
   "id": "5a366d83",
   "metadata": {},
   "source": [
    "Converting this expected total to the GL coefficients and plotting them."
   ]
  },
  {
   "cell_type": "code",
   "execution_count": null,
   "id": "55715ab3",
   "metadata": {},
   "outputs": [],
   "source": [
    "plt.figure(figsize=(8, 5))\n",
    "plt.plot(bwts, 100 / ipf_formula(bwts, *old_coef), c = 'r', label='Old Model')\n",
    "plt.plot(bwts, 100 / ipf_formula(bwts, *new_coef),  c = 'g', label='Refitted Model')\n",
    "plt.ylabel(\"GL Coefficients\")\n",
    "plt.xlabel('Bodyweight [kg]')\n",
    "plt.legend()"
   ]
  },
  {
   "cell_type": "markdown",
   "id": "001cb390",
   "metadata": {},
   "source": [
    "Now we can look at the expected change in GL points due to refitting for a given bodyweigh. Note that this will be the same regardless of the total obtained, as the final score is just multiplied with the total."
   ]
  },
  {
   "cell_type": "code",
   "execution_count": null,
   "id": "3ff60723",
   "metadata": {},
   "outputs": [],
   "source": [
    "relative_diff = (100 / ipf_formula(bwts, *new_coef)) /  \\\n",
    "    (100 / ipf_formula(bwts, *old_coef))\n",
    "plt.figure(figsize=(8, 5))\n",
    "plt.plot(bwts, 100 * (relative_diff-1))\n",
    "plt.xlabel(\"Bodyweight [kg]\")\n",
    "plt.ylabel(\"% change in GL Points due to refitting\")"
   ]
  },
  {
   "cell_type": "markdown",
   "id": "8764f8de",
   "metadata": {},
   "source": [
    "### Weight Class Analysis\n",
    "Looking at the distribution of the GL points in the weight classes and its changes due to refitting. We look at the entire dataset so we have a (relatively) unbiased sample."
   ]
  },
  {
   "cell_type": "code",
   "execution_count": null,
   "id": "cf71ad24",
   "metadata": {},
   "outputs": [],
   "source": [
    "data_full = pd.read_csv('filtered_data_ipf_epf.csv')"
   ]
  },
  {
   "cell_type": "code",
   "execution_count": null,
   "id": "db0e2779",
   "metadata": {},
   "outputs": [],
   "source": [
    "data_full['GLold'] = data['TotalKg'] * (100 / ipf_formula(data['BodyweightKg'], *old_coef))\n",
    "data_full['GLnew'] = data['TotalKg'] * (100 / ipf_formula(data['BodyweightKg'], *new_coef))"
   ]
  },
  {
   "cell_type": "code",
   "execution_count": null,
   "id": "ad16b989",
   "metadata": {},
   "outputs": [],
   "source": [
    "import matplotlib.pyplot as plt\n",
    "\n",
    "# Define the grid dimensions (here 9 weightclasses, so 3x3)\n",
    "rows, cols = 3, 3\n",
    "fig, axes = plt.subplots(nrows=rows, ncols=cols, figsize=(16, 8), constrained_layout=True)\n",
    "\n",
    "axes = axes.flatten()\n",
    "\n",
    "for ax, (weight_class, group) in zip(axes, data_full.groupby('WeightClassKg')):\n",
    "    group['GLold'].plot(kind='kde', ax=ax, label = 'Old')\n",
    "    group['GLnew'].plot(kind='kde', ax=ax, label = 'Refitted')\n",
    "    ax.axvline(100, ymin = 0, color = 'red', linestyle = 'dashed', alpha = 0.2)\n",
    "    ax.set_title(f'Weight Class {weight_class}')\n",
    "    ax.set_xlabel('GL Points')\n",
    "    ax.set_ylabel('Density')\n",
    "    ax.legend()\n",
    "\n",
    "# Show the plots\n",
    "plt.show()\n"
   ]
  },
  {
   "cell_type": "markdown",
   "id": "60ea1c1c",
   "metadata": {},
   "source": [
    "We see the distributions become fairer, as we generally want the distribution to be symmetric around 100 (given an ideal data split). They aren't very symmetric, but the volume of probability at either sides does tend to be more equal with the refitted variant. This does show the (on average) favoured weight classes by this formula (e.g. 93)."
   ]
  },
  {
   "cell_type": "markdown",
   "id": "830f79d6",
   "metadata": {},
   "source": [
    "## Refitting DOTS\n",
    "Repeating the same procedure for DOTS."
   ]
  },
  {
   "cell_type": "code",
   "execution_count": null,
   "id": "c27d3c91",
   "metadata": {},
   "outputs": [],
   "source": [
    "def dots(bwt, a, b, c, d, e):\n",
    "    return (a + b * bwt + c * bwt**2 + d * bwt**3 + e * bwt**4)\n",
    "\n",
    "dots_p0 = [-307.75076, 24.0900756, -0.1918759221, 0.0007391293, -0.000001093] \n",
    "# For men, see https://www.inchcalculator.com/lifting-strength-calculator/ for women\n",
    "popt, pcov = curve_fit(dots, data['BodyweightKg'].values, data['TotalKg'], p0=dots_p0)\n",
    "dots_coef = popt"
   ]
  },
  {
   "cell_type": "code",
   "execution_count": null,
   "id": "b555ea1f",
   "metadata": {},
   "outputs": [],
   "source": [
    "plt.figure(figsize=(8, 5))\n",
    "plt.plot(bwts, dots(bwts, *dots_p0), c = 'r', label='DOTS Old')\n",
    "plt.plot(bwts, dots(bwts, *dots_coef), c = 'g', label='DOTS Refitted')\n",
    "plt.scatter(data['BodyweightKg'].values, data['TotalKg'], alpha=0.2, s = 1.5, color=\"blue\")\n",
    "plt.ylabel(\"Expected Total [kg]\")\n",
    "plt.xlabel(\"Bodyweight [kg]\")\n",
    "plt.legend()"
   ]
  },
  {
   "cell_type": "markdown",
   "id": "f7947747",
   "metadata": {},
   "source": [
    "Quite clear that a higher order polynomial is not an appropiate model for this data, as it heavily overfits. Will also be obvious in the relative change graph. \n",
    "(Wilks is just DOTS with a 5th order term, so will be even worse. Just add f * x^5 in the formula.)"
   ]
  },
  {
   "cell_type": "code",
   "execution_count": null,
   "id": "99aaac5b",
   "metadata": {},
   "outputs": [],
   "source": [
    "relative_diff = (500 / dots(bwts, *dots_coef)) /  \\\n",
    "    (500 / dots(bwts, *dots_p0))\n",
    "\n",
    "plt.figure(figsize=(8, 5))\n",
    "plt.plot(bwts, 100 * (relative_diff-1))\n",
    "plt.xlabel(\"Bodyweight [kg]\")\n",
    "plt.ylabel(\"% change in DOTS due to refitting\")"
   ]
  },
  {
   "cell_type": "markdown",
   "id": "5412de2d",
   "metadata": {},
   "source": [
    "### Weight Class Analysis"
   ]
  },
  {
   "cell_type": "code",
   "execution_count": null,
   "id": "82135ad3",
   "metadata": {},
   "outputs": [],
   "source": [
    "data_full['DotsOld'] = data['TotalKg'] * (100 / dots(data['BodyweightKg'], *dots_p0))\n",
    "data_full['DotsNew'] = data['TotalKg'] * (100 / dots(data['BodyweightKg'], *dots_coef))"
   ]
  },
  {
   "cell_type": "code",
   "execution_count": null,
   "id": "c3be32ef",
   "metadata": {},
   "outputs": [],
   "source": [
    "import matplotlib.pyplot as plt\n",
    "\n",
    "# Define the grid dimensions (here 9 weightclasses, so 3x3)\n",
    "rows, cols = 3, 3\n",
    "fig, axes = plt.subplots(nrows=rows, ncols=cols, figsize=(16, 8), constrained_layout=True)\n",
    "\n",
    "axes = axes.flatten()\n",
    "\n",
    "for ax, (weight_class, group) in zip(axes, data_full.groupby('WeightClassKg')):\n",
    "    group['GLold'].plot(kind='kde', ax=ax, label = 'Old')\n",
    "    group['GLnew'].plot(kind='kde', ax=ax, label = 'Refitted')\n",
    "    ax.axvline(100, ymin = 0, color = 'red', linestyle = 'dashed', alpha = 0.2)\n",
    "    ax.set_title(f'Weight Class {weight_class}')\n",
    "    ax.set_xlabel('DOTS')\n",
    "    ax.set_ylabel('Density')\n",
    "    ax.legend()\n",
    "\n",
    "plt.show()"
   ]
  }
 ],
 "metadata": {
  "kernelspec": {
   "display_name": "Python 3 (ipykernel)",
   "language": "python",
   "name": "python3"
  },
  "language_info": {
   "codemirror_mode": {
    "name": "ipython",
    "version": 3
   },
   "file_extension": ".py",
   "mimetype": "text/x-python",
   "name": "python",
   "nbconvert_exporter": "python",
   "pygments_lexer": "ipython3",
   "version": "3.9.7"
  }
 },
 "nbformat": 4,
 "nbformat_minor": 5
}
