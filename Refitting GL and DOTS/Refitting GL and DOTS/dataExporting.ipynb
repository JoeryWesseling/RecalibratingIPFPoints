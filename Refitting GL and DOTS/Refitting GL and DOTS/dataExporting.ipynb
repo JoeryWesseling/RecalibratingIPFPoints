{
 "cells": [
  {
   "cell_type": "code",
   "source": [
    "import pandas as pd\n",
    "import numpy as np\n",
    "import matplotlib\n",
    "import matplotlib.pyplot as plt\n",
    "from scipy.optimize import curve_fit\n"
   ],
   "metadata": {
    "collapsed": false,
    "ExecuteTime": {
     "end_time": "2024-12-31T22:44:08.726034Z",
     "start_time": "2024-12-31T22:44:08.722115Z"
    }
   },
   "outputs": [],
   "execution_count": 18
  },
  {
   "cell_type": "markdown",
   "source": [
    "## Importing the data from BIG CSV"
   ],
   "metadata": {
    "collapsed": false
   }
  },
  {
   "cell_type": "code",
   "source": [
    "gdata = pd.read_csv(\n",
    "    'Raw data/openipf-2024-12-28-acdecc3a.csv',\n",
    "    dtype={'BodyweightKg': 'float64', 'TotalKg': 'float64'},\n",
    "    low_memory=False\n",
    ")"
   ],
   "metadata": {
    "collapsed": false,
    "ExecuteTime": {
     "end_time": "2025-01-01T21:04:07.887275Z",
     "start_time": "2025-01-01T21:04:00.746081Z"
    }
   },
   "outputs": [],
   "execution_count": 68
  },
  {
   "cell_type": "code",
   "source": [
    "# Parse the 'Date' column to datetime format\n",
    "data['Date'] = pd.to_datetime(data['Date'], errors='coerce')\n"
   ],
   "metadata": {
    "collapsed": false,
    "ExecuteTime": {
     "end_time": "2025-01-01T14:31:38.627487Z",
     "start_time": "2025-01-01T14:31:38.544339Z"
    }
   },
   "outputs": [],
   "execution_count": 53
  },
  {
   "cell_type": "code",
   "source": [
    "# Filter for raw, full-power meets (SBD), males, and international meets from 2011 onwards\n",
    "filtered_data = data[\n",
    "    (data['Event'] == 'SBD') &              # Full power (SBD)\n",
    "    (data['Equipment'] == 'Raw') &         # Raw lifting\n",
    "    (data['Sex'] == 'F') &\n",
    "    (data['BodyweightKg'] >= 37.5)&\n",
    "    # (data['Federation'].isin(['IPF', 'EPF'])) &  # International meets only\n",
    "    (data['Date'] >= '2011-01-01') &\n",
    "    (data['Date'] <= '2024-06-15')\n",
    "    # (data['Date'] <= '2020-04-30')\n",
    "]"
   ],
   "metadata": {
    "collapsed": false,
    "ExecuteTime": {
     "end_time": "2025-01-01T14:52:46.994619Z",
     "start_time": "2025-01-01T14:52:46.789870Z"
    }
   },
   "outputs": [],
   "execution_count": 58
  },
  {
   "cell_type": "code",
   "source": [
    "# Ensure necessary columns are present and drop missing values\n",
    "filtered_data = filtered_data[['Name', 'BodyweightKg', 'TotalKg', 'WeightClassKg', 'Federation', 'Date','MeetName']].dropna()\n",
    "\n",
    "filtered_data['MeetName'] = filtered_data['MeetName'].str.strip().str.lower()"
   ],
   "metadata": {
    "collapsed": false,
    "ExecuteTime": {
     "end_time": "2025-01-01T14:52:49.867713Z",
     "start_time": "2025-01-01T14:52:49.793435Z"
    }
   },
   "outputs": [],
   "execution_count": 59
  },
  {
   "cell_type": "code",
   "source": [
    "filtered_data.loc[:, 'Name'] = (\n",
    "    filtered_data['Name']\n",
    "    .str.strip()  # Remove leading/trailing spaces\n",
    "    .str.lower()  # Convert to lowercase for uniformity\n",
    ")"
   ],
   "metadata": {
    "collapsed": false,
    "ExecuteTime": {
     "end_time": "2025-01-01T14:52:50.920144Z",
     "start_time": "2025-01-01T14:52:50.877940Z"
    }
   },
   "outputs": [],
   "execution_count": 60
  },
  {
   "cell_type": "code",
   "source": [
    "\n",
    "# Retain the highest total per person per weight class\n",
    "filtered_data = filtered_data.loc[\n",
    "    filtered_data.groupby(['Name', 'WeightClassKg'])['TotalKg'].idxmax()\n",
    "].reset_index(drop=True)\n"
   ],
   "metadata": {
    "collapsed": false,
    "ExecuteTime": {
     "end_time": "2025-01-01T14:52:53.210462Z",
     "start_time": "2025-01-01T14:52:53.109318Z"
    }
   },
   "outputs": [],
   "execution_count": 61
  },
  {
   "cell_type": "code",
   "source": [
    "# Save the filtered data to a CSV\n",
    "filtered_data.to_csv('all_meets_beforeworldsfemale_ipf_epf.csv', index=False)\n",
    "print(\"Filtered data saved as 'filtered_data_ipf_epf.csv'.\")\n"
   ],
   "metadata": {
    "collapsed": false,
    "ExecuteTime": {
     "end_time": "2025-01-01T14:53:05.479868Z",
     "start_time": "2025-01-01T14:53:05.235079Z"
    }
   },
   "outputs": [
    {
     "name": "stdout",
     "output_type": "stream",
     "text": [
      "Filtered data saved as 'filtered_data_ipf_epf.csv'.\n"
     ]
    }
   ],
   "execution_count": 62
  },
  {
   "cell_type": "code",
   "execution_count": 124,
   "outputs": [],
   "source": [
    "\n",
    "# World records male 2024\n",
    "world_records = {\n",
    "     '59': 669.5, '66': 710.5, '74': 836.0, '83': 861.0, '93': 901.0,\n",
    "    '105': 940.5, '120': 978.5, '120+': 1152.5  # Example values\n",
    "}"
   ],
   "metadata": {
    "collapsed": false,
    "ExecuteTime": {
     "start_time": "2024-12-31T16:19:37.016867Z",
     "end_time": "2024-12-31T16:19:37.018397Z"
    }
   }
  },
  {
   "cell_type": "code",
   "execution_count": 111,
   "outputs": [],
   "source": [
    "# World records male 2020\n",
    "world_records = {\n",
    "    '59': 669.5, '66': 705.5, '74': 790.5, '83': 833, '93': 853.5,\n",
    "    '105': 895.5, '120': 978.5, '120+': 1105.5\n",
    "}"
   ],
   "metadata": {
    "collapsed": false,
    "ExecuteTime": {
     "start_time": "2024-12-31T14:54:26.679510Z",
     "end_time": "2024-12-31T14:54:26.688134Z"
    }
   }
  },
  {
   "cell_type": "code",
   "execution_count": 72,
   "outputs": [],
   "source": [
    "\n",
    "# World records female 2020\n",
    "world_records = {'47': 407.5, '52': 432.5, '57': 473.5,\n",
    "                 '63': 543.5, '72': 543.5, '84': 613, '84+': 671.5\n",
    "}"
   ],
   "metadata": {
    "collapsed": false,
    "ExecuteTime": {
     "start_time": "2024-12-31T14:46:15.799573Z",
     "end_time": "2024-12-31T14:46:15.799573Z"
    }
   }
  },
  {
   "cell_type": "code",
   "source": [
    "# world records female 2024\n",
    "world_records = {'47': 433.5, '52': 481, '57': 519.5,\n",
    "                 '63': 557.5, '69': 600, '76': 613, '84': 647, '84+': 731\n",
    "}"
   ],
   "metadata": {
    "collapsed": false,
    "ExecuteTime": {
     "end_time": "2025-01-01T14:53:09.480293Z",
     "start_time": "2025-01-01T14:53:09.475558Z"
    }
   },
   "outputs": [],
   "execution_count": 63
  },
  {
   "cell_type": "code",
   "source": [
    "# filtering for gold standard data\n",
    "filtered_data['WeightClassKg'] = filtered_data['WeightClassKg'].astype(str)\n",
    "gold_standard_data = filtered_data[\n",
    "    filtered_data.apply(\n",
    "        lambda row: row['TotalKg'] >= 0.84 * world_records.get(row['WeightClassKg'], np.inf), axis=1\n",
    "    )\n",
    "]"
   ],
   "metadata": {
    "collapsed": false,
    "ExecuteTime": {
     "end_time": "2025-01-01T14:53:13.290991Z",
     "start_time": "2025-01-01T14:53:12.739739Z"
    }
   },
   "outputs": [],
   "execution_count": 64
  },
  {
   "cell_type": "code",
   "source": [
    "# Standardize 'Name' column to ensure proper deduplication\n",
    "gold_standard_data.loc[:, 'Name'] = (\n",
    "    gold_standard_data['Name']\n",
    "    .str.strip()  # Remove leading/trailing spaces\n",
    "    .str.lower()  # Convert to lowercase for uniformity\n",
    ")"
   ],
   "metadata": {
    "collapsed": false,
    "ExecuteTime": {
     "end_time": "2025-01-01T14:53:17.552819Z",
     "start_time": "2025-01-01T14:53:17.548729Z"
    }
   },
   "outputs": [],
   "execution_count": 65
  },
  {
   "cell_type": "code",
   "source": [
    "# Deduplicate to retain only the top total for each lifter\n",
    "# Deduplicate to retain only the top total for each lifter per weight class\n",
    "gold_standard_data = gold_standard_data.loc[\n",
    "    gold_standard_data.groupby(['Name', 'WeightClassKg'])['TotalKg'].idxmax()\n",
    "].reset_index(drop=True)\n"
   ],
   "metadata": {
    "collapsed": false,
    "ExecuteTime": {
     "end_time": "2025-01-01T14:53:18.425088Z",
     "start_time": "2025-01-01T14:53:18.419121Z"
    }
   },
   "outputs": [],
   "execution_count": 66
  },
  {
   "cell_type": "code",
   "source": [
    "# Save the gold-standard data to a CSV\n",
    "gold_standard_data.to_csv('gold_standard_before_worlds_female_data_ipf_epf.csv', index=False)\n",
    "print(\"Gold standard data saved as 'gold_standard_data_ipf_epf.csv'.\")\n",
    "\n"
   ],
   "metadata": {
    "collapsed": false,
    "ExecuteTime": {
     "end_time": "2025-01-01T14:53:28.026669Z",
     "start_time": "2025-01-01T14:53:28.020497Z"
    }
   },
   "outputs": [
    {
     "name": "stdout",
     "output_type": "stream",
     "text": [
      "Gold standard data saved as 'gold_standard_data_ipf_epf.csv'.\n"
     ]
    }
   ],
   "execution_count": 67
  },
  {
   "cell_type": "code",
   "execution_count": null,
   "outputs": [],
   "source": [],
   "metadata": {
    "collapsed": false
   }
  }
 ],
 "metadata": {
  "kernelspec": {
   "display_name": "Python 3",
   "language": "python",
   "name": "python3"
  },
  "language_info": {
   "codemirror_mode": {
    "name": "ipython",
    "version": 2
   },
   "file_extension": ".py",
   "mimetype": "text/x-python",
   "name": "python",
   "nbconvert_exporter": "python",
   "pygments_lexer": "ipython2",
   "version": "2.7.6"
  }
 },
 "nbformat": 4,
 "nbformat_minor": 0
}
